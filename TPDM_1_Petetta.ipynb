{
 "cells": [
  {
   "cell_type": "markdown",
   "metadata": {},
   "source": [
    "# 1 Descargar un conjunto de datos, Crop_recommendation.csv1, para realizar el trabajo práctico"
   ]
  },
  {
   "cell_type": "code",
   "execution_count": 1,
   "metadata": {},
   "outputs": [],
   "source": [
    "import pandas as pd\n",
    "import numpy as np\n",
    "import matplotlib.pyplot as plt\n",
    "import seaborn as sns"
   ]
  },
  {
   "cell_type": "code",
   "execution_count": 2,
   "metadata": {},
   "outputs": [
    {
     "data": {
      "text/html": [
       "<div>\n",
       "<style scoped>\n",
       "    .dataframe tbody tr th:only-of-type {\n",
       "        vertical-align: middle;\n",
       "    }\n",
       "\n",
       "    .dataframe tbody tr th {\n",
       "        vertical-align: top;\n",
       "    }\n",
       "\n",
       "    .dataframe thead th {\n",
       "        text-align: right;\n",
       "    }\n",
       "</style>\n",
       "<table border=\"1\" class=\"dataframe\">\n",
       "  <thead>\n",
       "    <tr style=\"text-align: right;\">\n",
       "      <th></th>\n",
       "      <th>N</th>\n",
       "      <th>P</th>\n",
       "      <th>K</th>\n",
       "      <th>temperature</th>\n",
       "      <th>humidity</th>\n",
       "      <th>ph</th>\n",
       "      <th>rainfall</th>\n",
       "      <th>label</th>\n",
       "    </tr>\n",
       "  </thead>\n",
       "  <tbody>\n",
       "    <tr>\n",
       "      <th>0</th>\n",
       "      <td>90</td>\n",
       "      <td>42</td>\n",
       "      <td>43</td>\n",
       "      <td>20.879744</td>\n",
       "      <td>82.002744</td>\n",
       "      <td>6.502985</td>\n",
       "      <td>202.935536</td>\n",
       "      <td>rice</td>\n",
       "    </tr>\n",
       "    <tr>\n",
       "      <th>1</th>\n",
       "      <td>85</td>\n",
       "      <td>58</td>\n",
       "      <td>41</td>\n",
       "      <td>21.770462</td>\n",
       "      <td>80.319644</td>\n",
       "      <td>7.038096</td>\n",
       "      <td>226.655537</td>\n",
       "      <td>rice</td>\n",
       "    </tr>\n",
       "    <tr>\n",
       "      <th>2</th>\n",
       "      <td>60</td>\n",
       "      <td>55</td>\n",
       "      <td>44</td>\n",
       "      <td>23.004459</td>\n",
       "      <td>82.320763</td>\n",
       "      <td>7.840207</td>\n",
       "      <td>263.964248</td>\n",
       "      <td>rice</td>\n",
       "    </tr>\n",
       "    <tr>\n",
       "      <th>3</th>\n",
       "      <td>74</td>\n",
       "      <td>35</td>\n",
       "      <td>40</td>\n",
       "      <td>26.491096</td>\n",
       "      <td>80.158363</td>\n",
       "      <td>6.980401</td>\n",
       "      <td>242.864034</td>\n",
       "      <td>rice</td>\n",
       "    </tr>\n",
       "    <tr>\n",
       "      <th>4</th>\n",
       "      <td>78</td>\n",
       "      <td>42</td>\n",
       "      <td>42</td>\n",
       "      <td>20.130175</td>\n",
       "      <td>81.604873</td>\n",
       "      <td>7.628473</td>\n",
       "      <td>262.717340</td>\n",
       "      <td>rice</td>\n",
       "    </tr>\n",
       "  </tbody>\n",
       "</table>\n",
       "</div>"
      ],
      "text/plain": [
       "    N   P   K  temperature   humidity        ph    rainfall label\n",
       "0  90  42  43    20.879744  82.002744  6.502985  202.935536  rice\n",
       "1  85  58  41    21.770462  80.319644  7.038096  226.655537  rice\n",
       "2  60  55  44    23.004459  82.320763  7.840207  263.964248  rice\n",
       "3  74  35  40    26.491096  80.158363  6.980401  242.864034  rice\n",
       "4  78  42  42    20.130175  81.604873  7.628473  262.717340  rice"
      ]
     },
     "execution_count": 2,
     "metadata": {},
     "output_type": "execute_result"
    }
   ],
   "source": [
    "dataframe = pd.read_csv('Crop_recommendation.csv')\n",
    "dataframe.head()"
   ]
  },
  {
   "cell_type": "markdown",
   "metadata": {},
   "source": [
    "# 2 Analizar los atributos del conjunto de datos (distribuciones, valores, outliers, tipos de datos, etc.) y elegir un método de estandarización."
   ]
  },
  {
   "cell_type": "markdown",
   "metadata": {},
   "source": [
    "### Buscamos valores faltantes\n",
    "observamos que ninguna de las columnas tiene valores faltantes"
   ]
  },
  {
   "cell_type": "code",
   "execution_count": 3,
   "metadata": {},
   "outputs": [
    {
     "data": {
      "text/plain": [
       "N              0\n",
       "P              0\n",
       "K              0\n",
       "temperature    0\n",
       "humidity       0\n",
       "ph             0\n",
       "rainfall       0\n",
       "label          0\n",
       "dtype: int64"
      ]
     },
     "execution_count": 3,
     "metadata": {},
     "output_type": "execute_result"
    }
   ],
   "source": [
    "dataframe.isnull().sum()"
   ]
  },
  {
   "cell_type": "markdown",
   "metadata": {},
   "source": [
    "### Vemos los tipos de datos\n",
    "N P y K son valores enteros, temperatura, humedad, ph y lluvia son floats y label es un string"
   ]
  },
  {
   "cell_type": "code",
   "execution_count": 4,
   "metadata": {},
   "outputs": [
    {
     "name": "stdout",
     "output_type": "stream",
     "text": [
      "<class 'pandas.core.frame.DataFrame'>\n",
      "RangeIndex: 2200 entries, 0 to 2199\n",
      "Data columns (total 8 columns):\n",
      " #   Column       Non-Null Count  Dtype  \n",
      "---  ------       --------------  -----  \n",
      " 0   N            2200 non-null   int64  \n",
      " 1   P            2200 non-null   int64  \n",
      " 2   K            2200 non-null   int64  \n",
      " 3   temperature  2200 non-null   float64\n",
      " 4   humidity     2200 non-null   float64\n",
      " 5   ph           2200 non-null   float64\n",
      " 6   rainfall     2200 non-null   float64\n",
      " 7   label        2200 non-null   object \n",
      "dtypes: float64(4), int64(3), object(1)\n",
      "memory usage: 137.6+ KB\n"
     ]
    }
   ],
   "source": [
    "dataframe.info()"
   ]
  },
  {
   "cell_type": "markdown",
   "metadata": {},
   "source": [
    "### Cuantas labels hay?\n",
    "22"
   ]
  },
  {
   "cell_type": "code",
   "execution_count": 5,
   "metadata": {},
   "outputs": [
    {
     "data": {
      "text/plain": [
       "array(['rice', 'maize', 'chickpea', 'kidneybeans', 'pigeonpeas',\n",
       "       'mothbeans', 'mungbean', 'blackgram', 'lentil', 'pomegranate',\n",
       "       'banana', 'mango', 'grapes', 'watermelon', 'muskmelon', 'apple',\n",
       "       'orange', 'papaya', 'coconut', 'cotton', 'jute', 'coffee'],\n",
       "      dtype=object)"
      ]
     },
     "execution_count": 5,
     "metadata": {},
     "output_type": "execute_result"
    }
   ],
   "source": [
    "dataframe['label'].unique()"
   ]
  },
  {
   "cell_type": "markdown",
   "metadata": {},
   "source": [
    "### Distribuciones\n",
    "viendo las distribuciones podemos apreciar que K presenta valores atipicos de los datos con valores enteros\n",
    "N es asimetrica a la derecha\n",
    "P es la mas distribuida normalmente"
   ]
  },
  {
   "cell_type": "code",
   "execution_count": 6,
   "metadata": {},
   "outputs": [
    {
     "data": {
      "text/plain": [
       "Text(0.5, 1.0, 'Distribucion de K')"
      ]
     },
     "execution_count": 6,
     "metadata": {},
     "output_type": "execute_result"
    },
    {
     "data": {
      "image/png": "[encoded data removed]",
      "text/plain": [
       "<Figure size 1500x500 with 3 Axes>"
      ]
     },
     "metadata": {},
     "output_type": "display_data"
    }
   ],
   "source": [
    "plt.figure(figsize=(15, 5))\n",
    "\n",
    "plt.subplot(1, 3, 1)\n",
    "plt.hist(dataframe['N'], bins=5, color='blue', edgecolor='black')\n",
    "plt.title('Distribucion de N')\n",
    "\n",
    "plt.subplot(1, 3, 2)\n",
    "plt.hist(dataframe['P'], bins=5, color='red', edgecolor='black')\n",
    "plt.title('Distribucion de P')\n",
    "\n",
    "plt.subplot(1, 3, 3)\n",
    "plt.hist(dataframe['K'], bins=5, color='green', edgecolor='black')\n",
    "plt.title('Distribucion de K')\n"
   ]
  },
  {
   "cell_type": "code",
   "execution_count": 7,
   "metadata": {},
   "outputs": [
    {
     "data": {
      "text/plain": [
       "<Axes: >"
      ]
     },
     "execution_count": 7,
     "metadata": {},
     "output_type": "execute_result"
    },
    {
     "data": {
      "image/png": "[encoded data removed]",
      "text/plain": [
       "<Figure size 640x480 with 1 Axes>"
      ]
     },
     "metadata": {},
     "output_type": "display_data"
    }
   ],
   "source": [
    "sns.boxplot(dataframe['K'])"
   ]
  },
  {
   "cell_type": "markdown",
   "metadata": {},
   "source": [
    "### Distribuciones de las variabels float\n",
    "Temperatura y ph estan distribuidas normalmente, mientras humidity y rainfall presentan una asimetria a la izquierda y derecha respectivamente"
   ]
  },
  {
   "cell_type": "code",
   "execution_count": 8,
   "metadata": {},
   "outputs": [
    {
     "data": {
      "text/plain": [
       "Text(0.5, 1.0, 'Distribucion de rainfall')"
      ]
     },
     "execution_count": 8,
     "metadata": {},
     "output_type": "execute_result"
    },
    {
     "data": {
      "image/png": "[encoded data removed]",
      "text/plain": [
       "<Figure size 1500x500 with 4 Axes>"
      ]
     },
     "metadata": {},
     "output_type": "display_data"
    }
   ],
   "source": [
    "plt.figure(figsize=(15, 5))\n",
    "\n",
    "plt.subplot(1, 4, 1)\n",
    "plt.hist(dataframe['temperature'], bins=5, color='blue', edgecolor='black')\n",
    "plt.title('Distribucion de temperatura')\n",
    "\n",
    "plt.subplot(1, 4, 2)\n",
    "plt.hist(dataframe['humidity'], bins=5, color='red', edgecolor='black')\n",
    "plt.title('Distribucion de humidity')\n",
    "\n",
    "plt.subplot(1, 4, 3)\n",
    "plt.hist(dataframe['ph'], bins=5, color='green', edgecolor='black')\n",
    "plt.title('Distribucion de ph')\n",
    "\n",
    "plt.subplot(1, 4, 4)\n",
    "plt.hist(dataframe['rainfall'], bins=5, color='orange', edgecolor='black')\n",
    "plt.title('Distribucion de rainfall')"
   ]
  },
  {
   "cell_type": "markdown",
   "metadata": {},
   "source": [
    "### Normalizar los datos mediante la tecnica de Z-Score"
   ]
  },
  {
   "cell_type": "code",
   "execution_count": 9,
   "metadata": {},
   "outputs": [],
   "source": [
    "df_sub = dataframe[dataframe.describe().columns]\n",
    "\n",
    "dataframe_escalado = (df_sub-df_sub.mean())/df_sub.std()"
   ]
  },
  {
   "cell_type": "code",
   "execution_count": 10,
   "metadata": {},
   "outputs": [
    {
     "data": {
      "text/html": [
       "<div>\n",
       "<style scoped>\n",
       "    .dataframe tbody tr th:only-of-type {\n",
       "        vertical-align: middle;\n",
       "    }\n",
       "\n",
       "    .dataframe tbody tr th {\n",
       "        vertical-align: top;\n",
       "    }\n",
       "\n",
       "    .dataframe thead th {\n",
       "        text-align: right;\n",
       "    }\n",
       "</style>\n",
       "<table border=\"1\" class=\"dataframe\">\n",
       "  <thead>\n",
       "    <tr style=\"text-align: right;\">\n",
       "      <th></th>\n",
       "      <th>N</th>\n",
       "      <th>P</th>\n",
       "      <th>K</th>\n",
       "      <th>temperature</th>\n",
       "      <th>humidity</th>\n",
       "      <th>ph</th>\n",
       "      <th>rainfall</th>\n",
       "    </tr>\n",
       "  </thead>\n",
       "  <tbody>\n",
       "    <tr>\n",
       "      <th>0</th>\n",
       "      <td>1.068554</td>\n",
       "      <td>-0.344472</td>\n",
       "      <td>-0.101664</td>\n",
       "      <td>-0.935374</td>\n",
       "      <td>0.472559</td>\n",
       "      <td>0.043292</td>\n",
       "      <td>1.809949</td>\n",
       "    </tr>\n",
       "    <tr>\n",
       "      <th>1</th>\n",
       "      <td>0.933117</td>\n",
       "      <td>0.140584</td>\n",
       "      <td>-0.141153</td>\n",
       "      <td>-0.759473</td>\n",
       "      <td>0.396961</td>\n",
       "      <td>0.734706</td>\n",
       "      <td>2.241548</td>\n",
       "    </tr>\n",
       "    <tr>\n",
       "      <th>2</th>\n",
       "      <td>0.255928</td>\n",
       "      <td>0.049636</td>\n",
       "      <td>-0.081920</td>\n",
       "      <td>-0.515781</td>\n",
       "      <td>0.486843</td>\n",
       "      <td>1.771108</td>\n",
       "      <td>2.920402</td>\n",
       "    </tr>\n",
       "    <tr>\n",
       "      <th>3</th>\n",
       "      <td>0.635154</td>\n",
       "      <td>-0.556684</td>\n",
       "      <td>-0.160897</td>\n",
       "      <td>0.172768</td>\n",
       "      <td>0.389717</td>\n",
       "      <td>0.660158</td>\n",
       "      <td>2.536471</td>\n",
       "    </tr>\n",
       "    <tr>\n",
       "      <th>4</th>\n",
       "      <td>0.743504</td>\n",
       "      <td>-0.344472</td>\n",
       "      <td>-0.121409</td>\n",
       "      <td>-1.083401</td>\n",
       "      <td>0.454688</td>\n",
       "      <td>1.497527</td>\n",
       "      <td>2.897714</td>\n",
       "    </tr>\n",
       "    <tr>\n",
       "      <th>...</th>\n",
       "      <td>...</td>\n",
       "      <td>...</td>\n",
       "      <td>...</td>\n",
       "      <td>...</td>\n",
       "      <td>...</td>\n",
       "      <td>...</td>\n",
       "      <td>...</td>\n",
       "    </tr>\n",
       "    <tr>\n",
       "      <th>2195</th>\n",
       "      <td>1.529043</td>\n",
       "      <td>-0.587000</td>\n",
       "      <td>-0.318850</td>\n",
       "      <td>0.228762</td>\n",
       "      <td>-0.227657</td>\n",
       "      <td>0.401303</td>\n",
       "      <td>1.352129</td>\n",
       "    </tr>\n",
       "    <tr>\n",
       "      <th>2196</th>\n",
       "      <td>1.312342</td>\n",
       "      <td>-1.163004</td>\n",
       "      <td>-0.417571</td>\n",
       "      <td>0.355639</td>\n",
       "      <td>-0.666796</td>\n",
       "      <td>-0.494300</td>\n",
       "      <td>0.445081</td>\n",
       "    </tr>\n",
       "    <tr>\n",
       "      <th>2197</th>\n",
       "      <td>1.827006</td>\n",
       "      <td>-0.617316</td>\n",
       "      <td>-0.358338</td>\n",
       "      <td>-0.293152</td>\n",
       "      <td>-0.191192</td>\n",
       "      <td>-0.138089</td>\n",
       "      <td>1.271129</td>\n",
       "    </tr>\n",
       "    <tr>\n",
       "      <th>2198</th>\n",
       "      <td>1.799918</td>\n",
       "      <td>-0.647632</td>\n",
       "      <td>-0.279362</td>\n",
       "      <td>0.129583</td>\n",
       "      <td>-0.869320</td>\n",
       "      <td>0.373819</td>\n",
       "      <td>0.431447</td>\n",
       "    </tr>\n",
       "    <tr>\n",
       "      <th>2199</th>\n",
       "      <td>1.447780</td>\n",
       "      <td>-1.072056</td>\n",
       "      <td>-0.358338</td>\n",
       "      <td>-0.397577</td>\n",
       "      <td>-0.497907</td>\n",
       "      <td>0.401005</td>\n",
       "      <td>0.681850</td>\n",
       "    </tr>\n",
       "  </tbody>\n",
       "</table>\n",
       "<p>2200 rows × 7 columns</p>\n",
       "</div>"
      ],
      "text/plain": [
       "             N         P         K  temperature  humidity        ph  rainfall\n",
       "0     1.068554 -0.344472 -0.101664    -0.935374  0.472559  0.043292  1.809949\n",
       "1     0.933117  0.140584 -0.141153    -0.759473  0.396961  0.734706  2.241548\n",
       "2     0.255928  0.049636 -0.081920    -0.515781  0.486843  1.771108  2.920402\n",
       "3     0.635154 -0.556684 -0.160897     0.172768  0.389717  0.660158  2.536471\n",
       "4     0.743504 -0.344472 -0.121409    -1.083401  0.454688  1.497527  2.897714\n",
       "...        ...       ...       ...          ...       ...       ...       ...\n",
       "2195  1.529043 -0.587000 -0.318850     0.228762 -0.227657  0.401303  1.352129\n",
       "2196  1.312342 -1.163004 -0.417571     0.355639 -0.666796 -0.494300  0.445081\n",
       "2197  1.827006 -0.617316 -0.358338    -0.293152 -0.191192 -0.138089  1.271129\n",
       "2198  1.799918 -0.647632 -0.279362     0.129583 -0.869320  0.373819  0.431447\n",
       "2199  1.447780 -1.072056 -0.358338    -0.397577 -0.497907  0.401005  0.681850\n",
       "\n",
       "[2200 rows x 7 columns]"
      ]
     },
     "execution_count": 10,
     "metadata": {},
     "output_type": "execute_result"
    }
   ],
   "source": [
    "dataframe_escalado"
   ]
  },
  {
   "cell_type": "markdown",
   "metadata": {},
   "source": [
    "# 3 Realizar PCA y determinar el número de componentes principales considerando alguno de los 3 criterios datos en la práctica. Graficar la varianza acumulada y las componentes de PCA en un grafico 2 o 3D con sus respectivas clases."
   ]
  },
  {
   "cell_type": "code",
   "execution_count": 11,
   "metadata": {},
   "outputs": [],
   "source": [
    "from sklearn.decomposition import PCA"
   ]
  },
  {
   "cell_type": "code",
   "execution_count": 12,
   "metadata": {},
   "outputs": [],
   "source": [
    "# Obtener todas las componentes principales\n",
    "pca = PCA(n_components=df_sub.shape[1])\n",
    "\n",
    "pca_features = pca.fit_transform(dataframe_escalado)\n",
    "\n",
    "# PC dataframe\n",
    "pca_df = pd.DataFrame(\n",
    "    data=pca_features,\n",
    "    columns=df_sub.columns)\n",
    "\n",
    "\n",
    "nuevos_nombres = {'N': 'PC1',\n",
    "                  'P': 'PC2',\n",
    "                  'K': 'PC3',\n",
    "                  'temperature': 'PC4',\n",
    "                  'humidity': 'PC5',\n",
    "                  'ph': 'PC6',\n",
    "                  'rainfall': 'PC7'}\n",
    "\n",
    "pca_df.rename(columns=nuevos_nombres, inplace=True)\n",
    "\n",
    "pca_df['label'] = dataframe['label']"
   ]
  },
  {
   "cell_type": "code",
   "execution_count": 13,
   "metadata": {},
   "outputs": [
    {
     "data": {
      "text/html": [
       "<div>\n",
       "<style scoped>\n",
       "    .dataframe tbody tr th:only-of-type {\n",
       "        vertical-align: middle;\n",
       "    }\n",
       "\n",
       "    .dataframe tbody tr th {\n",
       "        vertical-align: top;\n",
       "    }\n",
       "\n",
       "    .dataframe thead th {\n",
       "        text-align: right;\n",
       "    }\n",
       "</style>\n",
       "<table border=\"1\" class=\"dataframe\">\n",
       "  <thead>\n",
       "    <tr style=\"text-align: right;\">\n",
       "      <th></th>\n",
       "      <th>PC1</th>\n",
       "      <th>PC2</th>\n",
       "      <th>PC3</th>\n",
       "      <th>PC4</th>\n",
       "      <th>PC5</th>\n",
       "      <th>PC6</th>\n",
       "      <th>PC7</th>\n",
       "      <th>label</th>\n",
       "    </tr>\n",
       "  </thead>\n",
       "  <tbody>\n",
       "    <tr>\n",
       "      <th>0</th>\n",
       "      <td>-0.582737</td>\n",
       "      <td>-0.844394</td>\n",
       "      <td>1.373031</td>\n",
       "      <td>-1.613762</td>\n",
       "      <td>0.308154</td>\n",
       "      <td>-0.095975</td>\n",
       "      <td>-0.025234</td>\n",
       "      <td>rice</td>\n",
       "    </tr>\n",
       "    <tr>\n",
       "      <th>1</th>\n",
       "      <td>-0.474527</td>\n",
       "      <td>-0.784716</td>\n",
       "      <td>1.251893</td>\n",
       "      <td>-1.792355</td>\n",
       "      <td>1.107493</td>\n",
       "      <td>-0.532134</td>\n",
       "      <td>-0.280479</td>\n",
       "      <td>rice</td>\n",
       "    </tr>\n",
       "    <tr>\n",
       "      <th>2</th>\n",
       "      <td>-0.633924</td>\n",
       "      <td>-0.694365</td>\n",
       "      <td>1.179064</td>\n",
       "      <td>-1.817692</td>\n",
       "      <td>2.522690</td>\n",
       "      <td>-0.538428</td>\n",
       "      <td>-0.105943</td>\n",
       "      <td>rice</td>\n",
       "    </tr>\n",
       "    <tr>\n",
       "      <th>3</th>\n",
       "      <td>-1.047682</td>\n",
       "      <td>-1.087411</td>\n",
       "      <td>1.393035</td>\n",
       "      <td>-0.982177</td>\n",
       "      <td>1.448452</td>\n",
       "      <td>-0.656779</td>\n",
       "      <td>0.275209</td>\n",
       "      <td>rice</td>\n",
       "    </tr>\n",
       "    <tr>\n",
       "      <th>4</th>\n",
       "      <td>-0.873059</td>\n",
       "      <td>-0.658523</td>\n",
       "      <td>1.455354</td>\n",
       "      <td>-2.334481</td>\n",
       "      <td>1.959188</td>\n",
       "      <td>-0.317952</td>\n",
       "      <td>0.052728</td>\n",
       "      <td>rice</td>\n",
       "    </tr>\n",
       "    <tr>\n",
       "      <th>...</th>\n",
       "      <td>...</td>\n",
       "      <td>...</td>\n",
       "      <td>...</td>\n",
       "      <td>...</td>\n",
       "      <td>...</td>\n",
       "      <td>...</td>\n",
       "      <td>...</td>\n",
       "      <td>...</td>\n",
       "    </tr>\n",
       "    <tr>\n",
       "      <th>2195</th>\n",
       "      <td>-1.260634</td>\n",
       "      <td>-0.618222</td>\n",
       "      <td>0.711136</td>\n",
       "      <td>-1.014740</td>\n",
       "      <td>0.133200</td>\n",
       "      <td>-1.122004</td>\n",
       "      <td>0.306955</td>\n",
       "      <td>coffee</td>\n",
       "    </tr>\n",
       "    <tr>\n",
       "      <th>2196</th>\n",
       "      <td>-1.355275</td>\n",
       "      <td>-0.154008</td>\n",
       "      <td>0.701489</td>\n",
       "      <td>-0.197638</td>\n",
       "      <td>-0.898453</td>\n",
       "      <td>-0.771301</td>\n",
       "      <td>0.684801</td>\n",
       "      <td>coffee</td>\n",
       "    </tr>\n",
       "    <tr>\n",
       "      <th>2197</th>\n",
       "      <td>-1.158120</td>\n",
       "      <td>-0.640329</td>\n",
       "      <td>1.045602</td>\n",
       "      <td>-1.301545</td>\n",
       "      <td>-0.491653</td>\n",
       "      <td>-0.884927</td>\n",
       "      <td>0.203417</td>\n",
       "      <td>coffee</td>\n",
       "    </tr>\n",
       "    <tr>\n",
       "      <th>2198</th>\n",
       "      <td>-1.218911</td>\n",
       "      <td>0.052378</td>\n",
       "      <td>0.180814</td>\n",
       "      <td>-0.990274</td>\n",
       "      <td>-0.601252</td>\n",
       "      <td>-1.308669</td>\n",
       "      <td>0.509541</td>\n",
       "      <td>coffee</td>\n",
       "    </tr>\n",
       "    <tr>\n",
       "      <th>2199</th>\n",
       "      <td>-1.372692</td>\n",
       "      <td>0.055805</td>\n",
       "      <td>0.500541</td>\n",
       "      <td>-1.218953</td>\n",
       "      <td>-0.346272</td>\n",
       "      <td>-0.572600</td>\n",
       "      <td>0.577861</td>\n",
       "      <td>coffee</td>\n",
       "    </tr>\n",
       "  </tbody>\n",
       "</table>\n",
       "<p>2200 rows × 8 columns</p>\n",
       "</div>"
      ],
      "text/plain": [
       "           PC1       PC2       PC3       PC4       PC5       PC6       PC7  \\\n",
       "0    -0.582737 -0.844394  1.373031 -1.613762  0.308154 -0.095975 -0.025234   \n",
       "1    -0.474527 -0.784716  1.251893 -1.792355  1.107493 -0.532134 -0.280479   \n",
       "2    -0.633924 -0.694365  1.179064 -1.817692  2.522690 -0.538428 -0.105943   \n",
       "3    -1.047682 -1.087411  1.393035 -0.982177  1.448452 -0.656779  0.275209   \n",
       "4    -0.873059 -0.658523  1.455354 -2.334481  1.959188 -0.317952  0.052728   \n",
       "...        ...       ...       ...       ...       ...       ...       ...   \n",
       "2195 -1.260634 -0.618222  0.711136 -1.014740  0.133200 -1.122004  0.306955   \n",
       "2196 -1.355275 -0.154008  0.701489 -0.197638 -0.898453 -0.771301  0.684801   \n",
       "2197 -1.158120 -0.640329  1.045602 -1.301545 -0.491653 -0.884927  0.203417   \n",
       "2198 -1.218911  0.052378  0.180814 -0.990274 -0.601252 -1.308669  0.509541   \n",
       "2199 -1.372692  0.055805  0.500541 -1.218953 -0.346272 -0.572600  0.577861   \n",
       "\n",
       "       label  \n",
       "0       rice  \n",
       "1       rice  \n",
       "2       rice  \n",
       "3       rice  \n",
       "4       rice  \n",
       "...      ...  \n",
       "2195  coffee  \n",
       "2196  coffee  \n",
       "2197  coffee  \n",
       "2198  coffee  \n",
       "2199  coffee  \n",
       "\n",
       "[2200 rows x 8 columns]"
      ]
     },
     "execution_count": 13,
     "metadata": {},
     "output_type": "execute_result"
    }
   ],
   "source": [
    "pca_df"
   ]
  },
  {
   "cell_type": "code",
   "execution_count": 14,
   "metadata": {},
   "outputs": [
    {
     "data": {
      "text/html": [
       "<div>\n",
       "<style scoped>\n",
       "    .dataframe tbody tr th:only-of-type {\n",
       "        vertical-align: middle;\n",
       "    }\n",
       "\n",
       "    .dataframe tbody tr th {\n",
       "        vertical-align: top;\n",
       "    }\n",
       "\n",
       "    .dataframe thead th {\n",
       "        text-align: right;\n",
       "    }\n",
       "</style>\n",
       "<table border=\"1\" class=\"dataframe\">\n",
       "  <thead>\n",
       "    <tr style=\"text-align: right;\">\n",
       "      <th></th>\n",
       "      <th>PC1</th>\n",
       "      <th>PC2</th>\n",
       "      <th>PC3</th>\n",
       "      <th>PC4</th>\n",
       "      <th>PC5</th>\n",
       "      <th>PC6</th>\n",
       "      <th>PC7</th>\n",
       "    </tr>\n",
       "  </thead>\n",
       "  <tbody>\n",
       "    <tr>\n",
       "      <th>X1</th>\n",
       "      <td>-0.302191</td>\n",
       "      <td>0.643787</td>\n",
       "      <td>0.622607</td>\n",
       "      <td>-0.212428</td>\n",
       "      <td>-0.068483</td>\n",
       "      <td>-0.226943</td>\n",
       "      <td>-0.072532</td>\n",
       "    </tr>\n",
       "    <tr>\n",
       "      <th>X2</th>\n",
       "      <td>-0.334107</td>\n",
       "      <td>-0.034358</td>\n",
       "      <td>-0.283829</td>\n",
       "      <td>-0.359487</td>\n",
       "      <td>-0.737917</td>\n",
       "      <td>0.220657</td>\n",
       "      <td>-0.290158</td>\n",
       "    </tr>\n",
       "    <tr>\n",
       "      <th>X3</th>\n",
       "      <td>-0.112045</td>\n",
       "      <td>-0.109939</td>\n",
       "      <td>-0.163173</td>\n",
       "      <td>-0.248228</td>\n",
       "      <td>-0.213599</td>\n",
       "      <td>-0.548520</td>\n",
       "      <td>0.735267</td>\n",
       "    </tr>\n",
       "    <tr>\n",
       "      <th>X4</th>\n",
       "      <td>-0.541651</td>\n",
       "      <td>-0.046293</td>\n",
       "      <td>-0.154867</td>\n",
       "      <td>0.690826</td>\n",
       "      <td>-0.067171</td>\n",
       "      <td>-0.395700</td>\n",
       "      <td>-0.205318</td>\n",
       "    </tr>\n",
       "    <tr>\n",
       "      <th>X5</th>\n",
       "      <td>-0.507785</td>\n",
       "      <td>0.082331</td>\n",
       "      <td>0.033425</td>\n",
       "      <td>0.154865</td>\n",
       "      <td>0.128871</td>\n",
       "      <td>0.651881</td>\n",
       "      <td>0.518382</td>\n",
       "    </tr>\n",
       "    <tr>\n",
       "      <th>X6</th>\n",
       "      <td>-0.482904</td>\n",
       "      <td>-0.376847</td>\n",
       "      <td>-0.028967</td>\n",
       "      <td>-0.500418</td>\n",
       "      <td>0.547871</td>\n",
       "      <td>-0.125712</td>\n",
       "      <td>-0.239930</td>\n",
       "    </tr>\n",
       "    <tr>\n",
       "      <th>X7</th>\n",
       "      <td>-0.008473</td>\n",
       "      <td>-0.649104</td>\n",
       "      <td>0.692268</td>\n",
       "      <td>0.111282</td>\n",
       "      <td>-0.289624</td>\n",
       "      <td>0.040028</td>\n",
       "      <td>0.038577</td>\n",
       "    </tr>\n",
       "  </tbody>\n",
       "</table>\n",
       "</div>"
      ],
      "text/plain": [
       "         PC1       PC2       PC3       PC4       PC5       PC6       PC7\n",
       "X1 -0.302191  0.643787  0.622607 -0.212428 -0.068483 -0.226943 -0.072532\n",
       "X2 -0.334107 -0.034358 -0.283829 -0.359487 -0.737917  0.220657 -0.290158\n",
       "X3 -0.112045 -0.109939 -0.163173 -0.248228 -0.213599 -0.548520  0.735267\n",
       "X4 -0.541651 -0.046293 -0.154867  0.690826 -0.067171 -0.395700 -0.205318\n",
       "X5 -0.507785  0.082331  0.033425  0.154865  0.128871  0.651881  0.518382\n",
       "X6 -0.482904 -0.376847 -0.028967 -0.500418  0.547871 -0.125712 -0.239930\n",
       "X7 -0.008473 -0.649104  0.692268  0.111282 -0.289624  0.040028  0.038577"
      ]
     },
     "execution_count": 14,
     "metadata": {},
     "output_type": "execute_result"
    }
   ],
   "source": [
    "pd.DataFrame(pca.components_, columns=['PC1', 'PC2', 'PC3', 'PC4', 'PC5', 'PC6', 'PC7'], \n",
    "             index=['X1', 'X2', 'X3', 'X4', 'X5', 'X6', 'X7'])"
   ]
  },
  {
   "cell_type": "markdown",
   "metadata": {},
   "source": [
    "### Funcion para la variancia acumulada"
   ]
  },
  {
   "cell_type": "code",
   "execution_count": 16,
   "metadata": {},
   "outputs": [],
   "source": [
    "def acumular(numbers):\n",
    "     sum = 0\n",
    "     var_c = []\n",
    "     for num in numbers:\n",
    "        sum += num\n",
    "        var_c.append(sum)\n",
    "     return var_c"
   ]
  },
  {
   "cell_type": "code",
   "execution_count": 17,
   "metadata": {},
   "outputs": [
    {
     "data": {
      "text/html": [
       "<div>\n",
       "<style scoped>\n",
       "    .dataframe tbody tr th:only-of-type {\n",
       "        vertical-align: middle;\n",
       "    }\n",
       "\n",
       "    .dataframe tbody tr th {\n",
       "        vertical-align: top;\n",
       "    }\n",
       "\n",
       "    .dataframe thead th {\n",
       "        text-align: right;\n",
       "    }\n",
       "</style>\n",
       "<table border=\"1\" class=\"dataframe\">\n",
       "  <thead>\n",
       "    <tr style=\"text-align: right;\">\n",
       "      <th></th>\n",
       "      <th>Eigenvalues</th>\n",
       "      <th>Proporción de variancia explicada</th>\n",
       "      <th>Proporción acumulado de variancia explicada</th>\n",
       "    </tr>\n",
       "  </thead>\n",
       "  <tbody>\n",
       "    <tr>\n",
       "      <th>0</th>\n",
       "      <td>1.931218</td>\n",
       "      <td>0.275888</td>\n",
       "      <td>0.275888</td>\n",
       "    </tr>\n",
       "    <tr>\n",
       "      <th>1</th>\n",
       "      <td>1.293910</td>\n",
       "      <td>0.184844</td>\n",
       "      <td>0.460733</td>\n",
       "    </tr>\n",
       "    <tr>\n",
       "      <th>2</th>\n",
       "      <td>1.076509</td>\n",
       "      <td>0.153787</td>\n",
       "      <td>0.614520</td>\n",
       "    </tr>\n",
       "    <tr>\n",
       "      <th>3</th>\n",
       "      <td>1.022891</td>\n",
       "      <td>0.146127</td>\n",
       "      <td>0.760647</td>\n",
       "    </tr>\n",
       "    <tr>\n",
       "      <th>4</th>\n",
       "      <td>0.805928</td>\n",
       "      <td>0.115133</td>\n",
       "      <td>0.875780</td>\n",
       "    </tr>\n",
       "    <tr>\n",
       "      <th>5</th>\n",
       "      <td>0.676562</td>\n",
       "      <td>0.096652</td>\n",
       "      <td>0.972431</td>\n",
       "    </tr>\n",
       "    <tr>\n",
       "      <th>6</th>\n",
       "      <td>0.192981</td>\n",
       "      <td>0.027569</td>\n",
       "      <td>1.000000</td>\n",
       "    </tr>\n",
       "  </tbody>\n",
       "</table>\n",
       "</div>"
      ],
      "text/plain": [
       "   Eigenvalues  Proporción de variancia explicada  \\\n",
       "0     1.931218                           0.275888   \n",
       "1     1.293910                           0.184844   \n",
       "2     1.076509                           0.153787   \n",
       "3     1.022891                           0.146127   \n",
       "4     0.805928                           0.115133   \n",
       "5     0.676562                           0.096652   \n",
       "6     0.192981                           0.027569   \n",
       "\n",
       "   Proporción acumulado de variancia explicada  \n",
       "0                                     0.275888  \n",
       "1                                     0.460733  \n",
       "2                                     0.614520  \n",
       "3                                     0.760647  \n",
       "4                                     0.875780  \n",
       "5                                     0.972431  \n",
       "6                                     1.000000  "
      ]
     },
     "execution_count": 17,
     "metadata": {},
     "output_type": "execute_result"
    }
   ],
   "source": [
    "var_c = acumular(pca.explained_variance_ratio_)\n",
    "pca_rtd = pd.DataFrame({'Eigenvalues':pca.explained_variance_, 'Proporción de variancia explicada':pca.explained_variance_ratio_, \n",
    "                        'Proporción acumulado de variancia explicada': var_c})\n",
    "pca_rtd"
   ]
  },
  {
   "cell_type": "markdown",
   "metadata": {},
   "source": [
    "En el caso de aplicar el criterio de los eigenvalores mayores a uno tomaria las 4 primeras componentes\n",
    "\n",
    "Teniendo en cuenta la variancia acumulada tomariamos las 4 primeras tambien"
   ]
  },
  {
   "cell_type": "code",
   "execution_count": 18,
   "metadata": {},
   "outputs": [
    {
     "data": {
      "image/png": "[encoded data removed]",
      "text/plain": [
       "<Figure size 640x480 with 1 Axes>"
      ]
     },
     "metadata": {},
     "output_type": "display_data"
    }
   ],
   "source": [
    "plt.bar(range(1,8), pca.explained_variance_ratio_,\n",
    "        alpha=0.5,\n",
    "        align='center')\n",
    "plt.step(range(1,8), np.cumsum(pca.explained_variance_ratio_),\n",
    "         where='mid',\n",
    "         color='red')\n",
    "plt.ylabel('Proporción de variancia explicada')\n",
    "plt.xlabel('Componente principales')\n",
    "plt.show()"
   ]
  },
  {
   "cell_type": "code",
   "execution_count": 19,
   "metadata": {},
   "outputs": [
    {
     "data": {
      "image/png": "[encoded data removed]",
      "text/plain": [
       "<Figure size 640x480 with 1 Axes>"
      ]
     },
     "metadata": {},
     "output_type": "display_data"
    }
   ],
   "source": [
    "PC_values = np.arange(pca.n_components_) + 1\n",
    "plt.plot(PC_values, pca.explained_variance_ratio_, 'o-', linewidth=2, color='steelblue')\n",
    "plt.title('Scree Plot')\n",
    "plt.xlabel('Componentes principales')\n",
    "plt.ylabel('Proporción de variancia explicada')\n",
    "plt.show()"
   ]
  },
  {
   "cell_type": "markdown",
   "metadata": {},
   "source": []
  },
  {
   "cell_type": "markdown",
   "metadata": {},
   "source": [
    "### Corroboramos que el calculo de nuestros PC's es correcto (deben ser ortogonales)"
   ]
  },
  {
   "cell_type": "code",
   "execution_count": 20,
   "metadata": {},
   "outputs": [
    {
     "data": {
      "image/png": "[encoded data removed]",
      "text/plain": [
       "<Figure size 640x480 with 2 Axes>"
      ]
     },
     "metadata": {},
     "output_type": "display_data"
    }
   ],
   "source": [
    "corr = pca_df[['PC1', 'PC2', 'PC3', 'PC4']].corr()\n",
    "\n",
    "#corr = pca_df[['PC1', 'PC2', 'PC3', 'PC4', 'PC5', 'PC6', 'PC7']].corr()\n",
    "\n",
    "ax = sns.heatmap(\n",
    "    corr,\n",
    "    vmin=-1, vmax=1, center=0,\n",
    "    cmap=sns.diverging_palette(20, 220, n=200),\n",
    "    square=True,\n",
    "    annot = True,\n",
    "    annot_kws = {'size': 6}\n",
    ")\n",
    "ax.set_xticklabels(\n",
    "    ax.get_xticklabels(),\n",
    "    rotation=45,\n",
    "    horizontalalignment='right'\n",
    ")\n",
    "plt.show()"
   ]
  }
 ],
 "metadata": {
  "kernelspec": {
   "display_name": "Python 3",
   "language": "python",
   "name": "python3"
  },
  "language_info": {
   "codemirror_mode": {
    "name": "ipython",
    "version": 3
   },
   "file_extension": ".py",
   "mimetype": "text/x-python",
   "name": "python",
   "nbconvert_exporter": "python",
   "pygments_lexer": "ipython3",
   "version": "3.11.4"
  }
 },
 "nbformat": 4,
 "nbformat_minor": 2
}
